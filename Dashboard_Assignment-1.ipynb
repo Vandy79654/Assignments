{
 "cells": [
  {
   "cell_type": "raw",
   "metadata": {},
   "source": [
    "1. In the below elements which of them are values or an expression? eg:- values can be\n",
    "integer or string and expressions will be mathematical operators.\n",
    "*\n",
    "'hello'\n",
    "-87.8\n",
    "-\n",
    "/\n",
    "+\n",
    "6\n"
   ]
  },
  {
   "cell_type": "raw",
   "metadata": {},
   "source": [
    "Answer-1\n",
    "*                    - expression\n",
    "'hello'              - value \n",
    "-87.8                - value\n",
    "-                    - expression\n",
    "/                    - expression\n",
    "+                    - expression\n",
    "6                    - value"
   ]
  },
  {
   "cell_type": "raw",
   "metadata": {},
   "source": [
    "2. What is the difference between string and variable?"
   ]
  },
  {
   "cell_type": "raw",
   "metadata": {},
   "source": [
    "Answer-2.\n",
    "Variables - helps us to hold your data inside the main memory or RAM.We can think variable as an identifier that stores value of data in the main memory.Variable name should start from alphabets.Variable name should not contain any special characters \n",
    "e.g- var = 2\n",
    "This var variable stores value of 2 in main memory\n",
    "String - is a collection of characters .String is a type  of information  you can store  in a variable.String can be declared within single ('hello')or (\"ineuron\").\n",
    "e.g-'hello'"
   ]
  },
  {
   "cell_type": "raw",
   "metadata": {},
   "source": [
    "3. Describe three different data types.\n",
    "Answer-We have various datatypes like int,float,string,bool,complex\n",
    "1.int datatype -stores values in integer like x=4\n",
    "2.float datatype -stores values in decimals like pi=3.14\n",
    "3.string datatype -stores value in string  which is a collection of words or characters."
   ]
  },
  {
   "cell_type": "raw",
   "metadata": {},
   "source": [
    "4. What is an expression made up of? What do all expressions do?\n",
    "An expression is a block of instruction or combination of elements like variables, opertors or methods according to the syntax of language  which helps to evaluate the result.\n",
    "Expressions are used to perform some sort of mathematical operations like addition,subtraction,multiplicattion,division etc."
   ]
  },
  {
   "cell_type": "raw",
   "metadata": {},
   "source": [
    "5. This assignment statements, like spam = 10. What is the difference between an\n",
    "expression and a statement?\n",
    "An expression can be defined as any element in our utility that evaluates some value.\n",
    "Statements represent an action or command e.g print statements,assignment statements. "
   ]
  },
  {
   "cell_type": "raw",
   "metadata": {},
   "source": [
    "6. After running the following code, what does the variable bacon contain?\n",
    "bacon = 22\n",
    "bacon + 1\n",
    "Answer=23\n"
   ]
  },
  {
   "cell_type": "raw",
   "metadata": {},
   "source": [
    "7. What should the values of the following two terms be?\n",
    "1.'spam'+\"spamsspam\"\n",
    "answer-'spamspamsspam'\n",
    "2.'spam'*3\n",
    "answer-'spamspamspam'"
   ]
  },
  {
   "cell_type": "raw",
   "metadata": {},
   "source": [
    "8. Why is eggs a valid variable name while 100 is invalid?\n",
    "Answer - because variables cannot be numbers or special characters"
   ]
  },
  {
   "cell_type": "code",
   "execution_count": null,
   "metadata": {},
   "outputs": [],
   "source": [
    "9. What three functions can be used to get the integer, floating-point number, or string\n",
    "version of a value?\n",
    "Answer-\n",
    "int()\n",
    "float()\n",
    "input()"
   ]
  },
  {
   "cell_type": "raw",
   "metadata": {},
   "source": [
    "10. Why does this expression cause an error? How can you fix it?\n",
    "'I have eaten' + 99 + 'burritos'\n",
    "Answer-It will not be able to perform concatenation as 99 is of integer datatype. we have to do typecasting 99 into string"
   ]
  },
  {
   "cell_type": "code",
   "execution_count": null,
   "metadata": {},
   "outputs": [],
   "source": []
  }
 ],
 "metadata": {
  "kernelspec": {
   "display_name": "Python 3",
   "language": "python",
   "name": "python3"
  },
  "language_info": {
   "codemirror_mode": {
    "name": "ipython",
    "version": 3
   },
   "file_extension": ".py",
   "mimetype": "text/x-python",
   "name": "python",
   "nbconvert_exporter": "python",
   "pygments_lexer": "ipython3",
   "version": "3.8.5"
  }
 },
 "nbformat": 4,
 "nbformat_minor": 4
}
