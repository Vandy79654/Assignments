{
 "cells": [
  {
   "cell_type": "markdown",
   "metadata": {},
   "source": [
    "## Email To-query@ineuron.ai\n",
    "## CC -sunny@ineuron.ai,riishav@ineuron.ai\n",
    "## Subject -[Bootcamp 2.0 | Assignment.1]\n"
   ]
  },
  {
   "cell_type": "markdown",
   "metadata": {},
   "source": [
    "### Answer 1:\n",
    "### Error 1. name 'Ten' is not defined\n",
    "Python is a case sensitive programming language.So,we have to be very careful while creating variable name. \n",
    "if we have not defined a variable and are using with any of the inbulit function of python like print with that variable \n",
    "ignoring whether it is in upper case or lower case we will encounter this error.\n",
    "Example : ten =10\n",
    "          print(Ten) will throw us an error to correct output we have to write print(ten) because Ten and ten both are \n",
    "          different objects.\n",
    "\n",
    "### Error 2 : str object is not collable\n",
    "WE cannot use reserved keywords of python as a variable name.If we do this it will lose its power then it will be an object not act as a predefined function of python.\n",
    "Example : print =\"Hii Everyone\" Its a variable print which has been assigned a string value.\n",
    "Now if we try to use the print function of python to print something then it will throw us this error as this function has lost its power.\n",
    "\n",
    "### Error 3 : Cannot  unpack non-iterable int object\n",
    "This error will be encountered when we do not assign enough inputs for each variable\n",
    "Example : a,b,c =10 .\n",
    "\n",
    "### Error 4: invalid literal for int() with base 10 : '12.2'\n",
    "Example : a =int(input(\"Enter value of a :\")).\n",
    "It willgive us an error as we are giving a float value as an input but we are typecasting in integer.It will not give error if we typecast input in float \n",
    "As input store value as string for that we need to correct typecasting.Otherwise it will give us this kind of error\n",
    "\n",
    "### Error 5 : Missing paranthesis in call to print \n",
    "This error is encountered when we do not use parenthis brackets while using print function\n",
    "Example : print \"Good Evening\"\n",
    "\n",
    "### Error 6 : EOL while scanning string literal\n",
    "Example : print(\"Good\n",
    "                 evening \")\n",
    "  this will give us syntax error as this line is not finished properly\n",
    "### Error 7 : can only concatenate str (not int) to str\n",
    "Example: \"Day\"+1 It cannot concatenate as 1 is integer data type.In this case we have to convert 1 into string datatype to get output.\n",
    "\n",
    "### Error 8 : SyntaxError  : can't assign to operator\n",
    " We should avoid using special characters (!,@,#,$,%,^,&,*) in the variable name.As it will show us a syntax error.\n",
    " Never start variable with number or special character.\n"
   ]
  },
  {
   "cell_type": "code",
   "execution_count": 1,
   "metadata": {},
   "outputs": [
    {
     "name": "stdout",
     "output_type": "stream",
     "text": [
      "A :2\n",
      "B :3\n",
      "Sum of A and B is : 5\n",
      "Multiplication of A and B is : 6\n",
      "Division of A and B is : 0.6666666666666666\n",
      "Square of A is: 4\n"
     ]
    }
   ],
   "source": [
    "#Answer 2:\n",
    "A =int(input(\"A :\"))\n",
    "B= int(input(\"B :\"))\n",
    "sum = A+B\n",
    "mul = A*B\n",
    "div = A/B\n",
    "power=A**2\n",
    "print(\"Sum of A and B is :\", sum)\n",
    "print(\"Multiplication of A and B is :\", mul)\n",
    "print(\"Division of A and B is :\", div)\n",
    "print(\"Square of A is:\", power)"
   ]
  },
  {
   "cell_type": "markdown",
   "metadata": {},
   "source": [
    "##### Answer 3 :\n",
    "#### There are 33 reserved keywords in python.This means no variable can have the same name as one of these rreserved keywords.\n",
    "#### If you use any reserved keyword as a variable name.\n",
    "#### For example : print =12 and then if you check type(print).It will store value of an integer type in object named print.\n",
    "#### If you  later use this print as function to print something it will give error : 'int' object is not collable.As we have taken the power of print function which is a predefined function.So,we should avoid using reserved keyword as variable name."
   ]
  },
  {
   "cell_type": "code",
   "execution_count": 2,
   "metadata": {},
   "outputs": [
    {
     "name": "stdout",
     "output_type": "stream",
     "text": [
      "First_Name :\n",
      "Last_name :\n",
      "Email_id :.@igmail.com\n"
     ]
    }
   ],
   "source": [
    "#Answer 4.Creating email_idswith user inputs.\n",
    "first_name = input(\"First_Name :\")\n",
    "last_name =input (\"Last_name :\")\n",
    "print(f\"Email_id :{last_name}.{first_name}@igmail.com\")"
   ]
  },
  {
   "cell_type": "code",
   "execution_count": 3,
   "metadata": {},
   "outputs": [
    {
     "name": "stdout",
     "output_type": "stream",
     "text": [
      "Hi I'm Sunny\n",
      "My address is 22/3\n",
      "I earn 20$ daily\n"
     ]
    }
   ],
   "source": [
    "#Answer 5 :\n",
    "name=\"Sunny\"\n",
    "address = \"22/3\"\n",
    "daily_income= 20\n",
    "print(f\"\"\"Hi I'm {name}\n",
    "My address is {address}\n",
    "I earn {daily_income}$ daily\"\"\")"
   ]
  },
  {
   "cell_type": "code",
   "execution_count": 12,
   "metadata": {},
   "outputs": [
    {
     "name": "stdout",
     "output_type": "stream",
     "text": [
      "Name :vandana\n",
      "Address :22/3\n",
      "Date Of Birth :06-02-1992\n",
      "Email_id of student :vandana@ineuron.com\n"
     ]
    }
   ],
   "source": [
    "#Answer 6 :\n",
    "\n",
    "name = input(\"Name :\")\n",
    "address=input(\"Address :\")\n",
    "dob=(input(\"Date Of Birth :\"))                            \n",
    "print(f\"Email_id of student :{name}@ineuron.com\")\n"
   ]
  },
  {
   "cell_type": "code",
   "execution_count": 5,
   "metadata": {},
   "outputs": [
    {
     "name": "stdout",
     "output_type": "stream",
     "text": [
      "Data type before: <class 'str'>\n"
     ]
    },
    {
     "ename": "ValueError",
     "evalue": "invalid literal for int() with base 10: '22.4'",
     "output_type": "error",
     "traceback": [
      "\u001b[1;31m---------------------------------------------------------------------------\u001b[0m",
      "\u001b[1;31mValueError\u001b[0m                                Traceback (most recent call last)",
      "\u001b[1;32m<ipython-input-5-08e964d956e8>\u001b[0m in \u001b[0;36m<module>\u001b[1;34m\u001b[0m\n\u001b[0;32m      3\u001b[0m \u001b[0mx\u001b[0m\u001b[1;33m=\u001b[0m\u001b[1;34m\"22.4\"\u001b[0m\u001b[1;33m\u001b[0m\u001b[1;33m\u001b[0m\u001b[0m\n\u001b[0;32m      4\u001b[0m \u001b[0mprint\u001b[0m\u001b[1;33m(\u001b[0m\u001b[1;34mf\"Data type before: {type(x)}\"\u001b[0m\u001b[1;33m)\u001b[0m\u001b[1;33m\u001b[0m\u001b[1;33m\u001b[0m\u001b[0m\n\u001b[1;32m----> 5\u001b[1;33m \u001b[0mx\u001b[0m\u001b[1;33m=\u001b[0m\u001b[0mint\u001b[0m\u001b[1;33m(\u001b[0m\u001b[0mx\u001b[0m\u001b[1;33m)\u001b[0m\u001b[1;33m\u001b[0m\u001b[1;33m\u001b[0m\u001b[0m\n\u001b[0m\u001b[0;32m      6\u001b[0m \u001b[0mprint\u001b[0m\u001b[1;33m(\u001b[0m\u001b[1;34mf\"Data type after :{type(x)}\"\u001b[0m\u001b[1;33m)\u001b[0m\u001b[1;33m\u001b[0m\u001b[1;33m\u001b[0m\u001b[0m\n",
      "\u001b[1;31mValueError\u001b[0m: invalid literal for int() with base 10: '22.4'"
     ]
    }
   ],
   "source": [
    "#Answer 7 :In this case type converion is not alllowed as we are converting string which is in the form of float into integer type.\n",
    "#It will allow conversion if it is to be converted in float\n",
    "#Convert \"22.4\" into 22\n",
    "x=\"22.4\" # entering float\n",
    "print(f\"Data type before: {type(x)},value of x : {x}\")\n",
    "x=int(x) #trying to convert into integer rather than float which is the cause of error\n",
    "print(f\"Data type after :{type(x)}\")\n"
   ]
  },
  {
   "cell_type": "code",
   "execution_count": null,
   "metadata": {},
   "outputs": [],
   "source": [
    "#It will be allowed in case of float\n",
    "x=\"22.4\"\n",
    "print(f\"Data type before: {type(x)}\")\n",
    "x=float(x)\n",
    "print(f\"Data type after :{type(x)}\")"
   ]
  },
  {
   "cell_type": "code",
   "execution_count": 4,
   "metadata": {},
   "outputs": [
    {
     "name": "stdout",
     "output_type": "stream",
     "text": [
      "Data type before :<class 'str'>\n",
      "Data type before :<class 'complex'>\n"
     ]
    }
   ],
   "source": [
    "#Convert \"22\" into Complex number\n",
    "x=\"22\"\n",
    "print(f\"Data type before :{type(x)}\")\n",
    "x=complex(x)\n",
    "print(f\"Data type before :{type(x)}\")    "
   ]
  },
  {
   "cell_type": "code",
   "execution_count": 13,
   "metadata": {},
   "outputs": [
    {
     "ename": "TypeError",
     "evalue": "cannot unpack non-iterable int object",
     "output_type": "error",
     "traceback": [
      "\u001b[1;31m---------------------------------------------------------------------------\u001b[0m",
      "\u001b[1;31mTypeError\u001b[0m                                 Traceback (most recent call last)",
      "\u001b[1;32m<ipython-input-13-7a8fa9d4c0fd>\u001b[0m in \u001b[0;36m<module>\u001b[1;34m\u001b[0m\n\u001b[1;32m----> 1\u001b[1;33m \u001b[0ma\u001b[0m\u001b[1;33m,\u001b[0m\u001b[0mb\u001b[0m\u001b[1;33m,\u001b[0m\u001b[0mc\u001b[0m \u001b[1;33m=\u001b[0m\u001b[1;36m10\u001b[0m\u001b[1;33m\u001b[0m\u001b[1;33m\u001b[0m\u001b[0m\n\u001b[0m",
      "\u001b[1;31mTypeError\u001b[0m: cannot unpack non-iterable int object"
     ]
    }
   ],
   "source": []
  },
  {
   "cell_type": "code",
   "execution_count": null,
   "metadata": {},
   "outputs": [],
   "source": []
  }
 ],
 "metadata": {
  "kernelspec": {
   "display_name": "Python 3",
   "language": "python",
   "name": "python3"
  },
  "language_info": {
   "codemirror_mode": {
    "name": "ipython",
    "version": 3
   },
   "file_extension": ".py",
   "mimetype": "text/x-python",
   "name": "python",
   "nbconvert_exporter": "python",
   "pygments_lexer": "ipython3",
   "version": "3.8.5"
  }
 },
 "nbformat": 4,
 "nbformat_minor": 4
}
