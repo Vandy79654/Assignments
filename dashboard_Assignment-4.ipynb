{
 "cells": [
  {
   "cell_type": "raw",
   "metadata": {},
   "source": [
    "1. What exactly is []?\n",
    "Answer\n",
    "An empty list, which has no elements."
   ]
  },
  {
   "cell_type": "raw",
   "metadata": {},
   "source": [
    "2. In a list of values stored in a variable called spam, how would you assign 'hello' as the\n",
    "third value? (Assume [2, 4, 6, 8, 10] are in spam.)\n",
    "Answer-\n",
    "spam[2] = 'hello' \n",
    "#the third value in a list is at index 2 "
   ]
  },
  {
   "cell_type": "raw",
   "metadata": {},
   "source": [
    "Lets pretend the spam includes the list ['a','b','c','d'] for the next three queries.\n",
    "\n",
    "3. What is the value of spam[int(int('3'* 2) / 11)]?\n",
    "Answer-\n",
    "'d'  \n",
    "#'3' * 2 is the string '33', which is passed to int() before being divided by 11. This eventually evaluates to 3.     spam[3]='d')"
   ]
  },
  {
   "cell_type": "raw",
   "metadata": {},
   "source": [
    "4.What is the value of spam[-1]?\n",
    "Answer-'d' \n",
    "#Negative indexing starts from end"
   ]
  },
  {
   "cell_type": "raw",
   "metadata": {},
   "source": [
    "5. What is the value of spam[:2]?\n",
    "Answer-['a', 'b']"
   ]
  },
  {
   "cell_type": "raw",
   "metadata": {},
   "source": [
    "Lets pretend bacon has the list [3.14,'cat','11','cat', True] for the next three questions."
   ]
  },
  {
   "cell_type": "raw",
   "metadata": {},
   "source": [
    "6. What is the value of bacon.index('cat')?\n",
    "Answer-1"
   ]
  },
  {
   "cell_type": "raw",
   "metadata": {},
   "source": [
    "7. How does bacon.append(99) change the look of the list value in bacon?\n",
    "Answer-[3.14, 'cat', 11, 'cat', True, 99]"
   ]
  },
  {
   "cell_type": "raw",
   "metadata": {},
   "source": [
    "8. How does bacon.remove('cat') change the look of the list in bacon?\n",
    "Answer-[3.14, 11, 'cat', True,99]"
   ]
  },
  {
   "cell_type": "raw",
   "metadata": {},
   "source": [
    "9. What are the list concatenation and list replication operators?\n",
    "Answer-The operator for list concatenation is +, while the operator for replication is *."
   ]
  },
  {
   "cell_type": "raw",
   "metadata": {},
   "source": [
    "10. What is difference between the list methods append() and insert()?\n",
    "Answer- append() will add values only to the end of a list, insert() can add values at any particular position in the list."
   ]
  },
  {
   "cell_type": "raw",
   "metadata": {},
   "source": [
    "11. What are the two methods for removing items from a list?\n",
    "Answer-the remove() and pop() list method are two ways to remove values from a list."
   ]
  },
  {
   "cell_type": "raw",
   "metadata": {},
   "source": [
    "12. Describe how list values and string values are identical.\n",
    "Answer-lists and strings can be passed to len(), have indexes and sliceing operatins can be performed , both can be used in for loops to parse through the elements, both can be concatenated or replicated, and also can be used with the in and not in operators.\n"
   ]
  },
  {
   "cell_type": "raw",
   "metadata": {},
   "source": [
    "13. What is the difference between tuples and lists?\n",
    "Answer-Lists is a mutable entity; they can have values added, removed, or changed. Tuples is an immutable entity; they cannot be changed at all. Also, tuples are written using parentheses, Notation for tuples is paranthesis ( ), while lists use the square brackets [  ] ."
   ]
  },
  {
   "cell_type": "raw",
   "metadata": {},
   "source": [
    "14. How do you type a tuple value that only contains the integer 42?\n",
    "Answer-(42,)"
   ]
  },
  {
   "cell_type": "raw",
   "metadata": {},
   "source": [
    "15. How do you get a list values tuple form? How do you get a tuple value's list form?\n",
    "Answer-Witht he help of tuple() and list() functions."
   ]
  },
  {
   "cell_type": "raw",
   "metadata": {},
   "source": [
    "16. Variables that \"contain\" list values are not necessarily lists themselves. Instead, what do they\n",
    "contain?\n",
    "Answer-They contain references i.e address of list values i memory."
   ]
  },
  {
   "cell_type": "raw",
   "metadata": {},
   "source": [
    "17. How do you distinguish between copy.copy() and copy.deepcopy()?\n",
    "Answer-\n",
    "copy.copy() - Return a shallow copy of list.\n",
    "copy.deepcopy()- will do a deep copy of a list. That is, only copy.deepcopy() will duplicate any lists inside the list.\n"
   ]
  },
  {
   "cell_type": "code",
   "execution_count": null,
   "metadata": {},
   "outputs": [],
   "source": []
  }
 ],
 "metadata": {
  "kernelspec": {
   "display_name": "Python 3",
   "language": "python",
   "name": "python3"
  },
  "language_info": {
   "codemirror_mode": {
    "name": "ipython",
    "version": 3
   },
   "file_extension": ".py",
   "mimetype": "text/x-python",
   "name": "python",
   "nbconvert_exporter": "python",
   "pygments_lexer": "ipython3",
   "version": "3.8.5"
  }
 },
 "nbformat": 4,
 "nbformat_minor": 4
}
