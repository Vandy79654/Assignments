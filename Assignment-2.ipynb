{
 "cells": [
  {
   "cell_type": "raw",
   "metadata": {},
   "source": [
    "Q1. Find the largest number from the given list, use for loop.\n",
    "\n",
    "numbers = [12, 75, 150, 180, 145, 525, 50]\n"
   ]
  },
  {
   "cell_type": "code",
   "execution_count": 1,
   "metadata": {},
   "outputs": [
    {
     "name": "stdout",
     "output_type": "stream",
     "text": [
      "Largest Number : 525\n"
     ]
    }
   ],
   "source": [
    "#Answer-1\n",
    "numbers = [12, 75, 150, 180, 145, 525, 50]\n",
    "largest=0\n",
    "for num in numbers:\n",
    "    #print(i)\n",
    "    if num > largest:\n",
    "        largest=num\n",
    "        \n",
    "print(f\"Largest Number : {largest}\")   "
   ]
  },
  {
   "cell_type": "raw",
   "metadata": {},
   "source": [
    "Q2. Print all the even number between (1, 12)."
   ]
  },
  {
   "cell_type": "code",
   "execution_count": 7,
   "metadata": {},
   "outputs": [
    {
     "name": "stdout",
     "output_type": "stream",
     "text": [
      "2\n",
      "4\n",
      "6\n",
      "8\n",
      "10\n",
      "12\n",
      "Even numbers in the list :[2, 4, 6, 8, 10, 12]\n"
     ]
    }
   ],
   "source": [
    "#Answer-2\n",
    "l=list()\n",
    "for i in range(1,13):\n",
    "    #print(i)\n",
    "    if i%2==0:\n",
    "        print(i)\n",
    "        l.append(i)\n",
    "print(f\"Even numbers in the list :{l}\")"
   ]
  },
  {
   "cell_type": "raw",
   "metadata": {},
   "source": [
    "Q3. Calculate the sum of all numbers from 1 to a given number\n",
    "\n",
    "Expected Output:\n",
    "\n",
    "Enter number 10\n",
    "\n",
    "Sum is:  55"
   ]
  },
  {
   "cell_type": "code",
   "execution_count": 8,
   "metadata": {},
   "outputs": [
    {
     "name": "stdout",
     "output_type": "stream",
     "text": [
      "Enter number :4\n",
      "Sum  :10\n"
     ]
    }
   ],
   "source": [
    "#Answer-3\n",
    "sum=0\n",
    "user_input=int(input(\"Enter number :\"))\n",
    "list(range(user_input+1))\n",
    "for i in list(range(user_input+1)):\n",
    "    sum=sum+i\n",
    "\n",
    "print(f\"Sum  :{sum}\")    \n",
    "   \n",
    " \n"
   ]
  },
  {
   "cell_type": "raw",
   "metadata": {},
   "source": [
    "Q4. Write a program to display only those numbers from a list that satisfy the following conditions\n",
    "\n",
    "The number must be divisible by five\n",
    "\n",
    "If the number is greater than 150, then skip it and move to the next number\n",
    "\n",
    "If the number is greater than 500, then stop the loop\n",
    "\n",
    "# Given:\n",
    "\n",
    "numbers = [12, 75, 150, 180, 145, 525, 50]"
   ]
  },
  {
   "cell_type": "code",
   "execution_count": 9,
   "metadata": {},
   "outputs": [
    {
     "name": "stdout",
     "output_type": "stream",
     "text": [
      "[75, 150, 50]\n"
     ]
    }
   ],
   "source": [
    "numbers = [12, 75, 150, 180, 415, 525, 50]\n",
    "num=list()\n",
    "for i in numbers:\n",
    "    if i >150:\n",
    "        continue\n",
    "        if  i>500:\n",
    "            break\n",
    "         \n",
    "    if i%5==0:\n",
    "        num.append(i)\n",
    "            \n",
    "print(num)        "
   ]
  },
  {
   "cell_type": "code",
   "execution_count": 10,
   "metadata": {},
   "outputs": [],
   "source": [
    "#Q5. Print the given list in reverse order.\n",
    "\n",
    "list1 = [10, 20, 30, 40, 50]\n",
    "\n",
    "      "
   ]
  },
  {
   "cell_type": "code",
   "execution_count": 11,
   "metadata": {},
   "outputs": [
    {
     "data": {
      "text/plain": [
       "5"
      ]
     },
     "execution_count": 11,
     "metadata": {},
     "output_type": "execute_result"
    }
   ],
   "source": [
    "len(list1)"
   ]
  },
  {
   "cell_type": "code",
   "execution_count": 12,
   "metadata": {},
   "outputs": [
    {
     "data": {
      "text/plain": [
       "[0, 1, 2, 3, 4]"
      ]
     },
     "execution_count": 12,
     "metadata": {},
     "output_type": "execute_result"
    }
   ],
   "source": [
    "list(range(len(list1)))"
   ]
  },
  {
   "cell_type": "code",
   "execution_count": 13,
   "metadata": {},
   "outputs": [
    {
     "name": "stdout",
     "output_type": "stream",
     "text": [
      "4  50\n",
      "3  40\n",
      "2  30\n",
      "1  20\n",
      "0  10\n",
      "Reverse of list : [50, 40, 30, 20, 10]\n"
     ]
    }
   ],
   "source": [
    "#Answer-5\n",
    "list2=[]\n",
    "for i in range(len(list1)-1,-1,-1):\n",
    "    print(f\"{i}  {list1[i]}\")\n",
    "    list2.append(list1[i])\n",
    "    \n",
    "print(f\"Reverse of list : {list2}\")\n",
    "\n",
    "    "
   ]
  },
  {
   "cell_type": "code",
   "execution_count": null,
   "metadata": {},
   "outputs": [],
   "source": []
  }
 ],
 "metadata": {
  "kernelspec": {
   "display_name": "Python 3",
   "language": "python",
   "name": "python3"
  },
  "language_info": {
   "codemirror_mode": {
    "name": "ipython",
    "version": 3
   },
   "file_extension": ".py",
   "mimetype": "text/x-python",
   "name": "python",
   "nbconvert_exporter": "python",
   "pygments_lexer": "ipython3",
   "version": "3.8.5"
  }
 },
 "nbformat": 4,
 "nbformat_minor": 4
}
