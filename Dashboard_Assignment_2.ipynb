{
 "cells": [
  {
   "cell_type": "raw",
   "metadata": {},
   "source": [
    "1.What are the two values of the Boolean data type? How do you write them?"
   ]
  },
  {
   "cell_type": "code",
   "execution_count": 1,
   "metadata": {},
   "outputs": [
    {
     "data": {
      "text/plain": [
       "bool"
      ]
     },
     "execution_count": 1,
     "metadata": {},
     "output_type": "execute_result"
    }
   ],
   "source": [
    "#Answer-1\n",
    "#The boolean value can be of two types only i.e. either True or False.\n",
    "a = True\n",
    "type(a)\n",
    " \n",
    "b = False\n",
    "type(b)\n"
   ]
  },
  {
   "cell_type": "raw",
   "metadata": {},
   "source": [
    "2. What are the three different types of Boolean operators?"
   ]
  },
  {
   "cell_type": "raw",
   "metadata": {},
   "source": [
    "Answer-2\n",
    "There are three different boolean operators AND,OR and NOT\n",
    "AND-  returns value only if out of 2 statements both are True.\n",
    "OR -  returns value when out of two statements eithee one of the statements is True\n",
    "NOT-  returns the opposite value of the statements."
   ]
  },
  {
   "cell_type": "raw",
   "metadata": {},
   "source": [
    "3. Make a list of each Boolean operator&truth tables(i.e. every possible combination of Boolean\n",
    "values for the operator and what it evaluate )."
   ]
  },
  {
   "cell_type": "raw",
   "metadata": {},
   "source": [
    "Answer-3\n",
    "1.AND  Truth table                  2.     OR -Truth Table          3. NOT -Truth Table\n",
    "\n",
    "A             B           Q            A       B        Q                A         Q\n",
    "0             0           0            1       0        1                1         0\n",
    "0             1           0            0       1        1                0         1\n",
    "1             0           0            1       1        1\n",
    "1             1           1            0       0        0  \n",
    "\n"
   ]
  },
  {
   "cell_type": "raw",
   "metadata": {},
   "source": [
    "4. What are the values of the following expressions?\n",
    "(5 > 4) and (3 == 5)\n",
    "not (5 > 4)\n",
    "(5 > 4) or (3 == 5)\n",
    "not ((5 > 4) or (3 == 5))\n",
    "(True and True) and (True == False)\n",
    "(not False) or (not True)"
   ]
  },
  {
   "cell_type": "raw",
   "metadata": {},
   "source": [
    "Answer-4\n",
    "False\n",
    "False\n",
    "True\n",
    "False\n",
    "True"
   ]
  },
  {
   "cell_type": "raw",
   "metadata": {},
   "source": [
    "5. What are the six comparison operators?\n",
    "Answer-5\n",
    "< less than\n",
    "> greater than\n",
    "<=less than or equal to\n",
    ">=greater than or equal to\n",
    "== equal to\n",
    "!= not equal to"
   ]
  },
  {
   "cell_type": "raw",
   "metadata": {},
   "source": [
    "6. How do you tell the difference between the equal to and assignment operators?Describe a\n",
    "condition and when you would use one."
   ]
  },
  {
   "cell_type": "raw",
   "metadata": {},
   "source": [
    "Answer-6\n",
    "\n",
    "The “=” is an assignment operator which is used to assign the value to the variable .\n",
    "e.g. a=10 ,\n",
    "here 'a' variable will be assigned a value of 10 in the memory.\n",
    "This variable can be used in for future mathematical calculations.\n",
    "\n",
    "The ‘==’ operator checks whether the two given operands are equal or not. If so, it returns true. Otherwise it returns false.\n",
    "e.g. a=3\n",
    "     b=5\n",
    "     a==b  will check whether variable 'a' is equal to variable'b'or not,abd accordingly return True or False value\n",
    "     \n",
    "Assignment Operator will be used to assign the value of variable or expression, while == is an Equal to Operator will be used for comparison (to compare value of both left and right side operands)."
   ]
  },
  {
   "cell_type": "raw",
   "metadata": {},
   "source": [
    "7. Identify the three blocks in this code:\n",
    "spam = 0\n",
    "if spam == 10:\n",
    "print('eggs')\n",
    "if spam > 5:\n",
    "print('bacon')\n",
    "else:\n",
    "print('ham')\n",
    "print('spam')\n",
    "print('spam')\n",
    "\n",
    "Answer-7\n",
    "The three blocks are everything inside the if statement and the lines print('bacon') and print('ham')\n",
    "print('eggs')\n",
    "if spam > 5:\n",
    "    print('bacon')\n",
    "else:\n",
    "    print('ham')\n",
    "print('spam')"
   ]
  },
  {
   "cell_type": "raw",
   "metadata": {},
   "source": [
    "8. Write code that prints Hello if 1 is stored in spam, prints Howdy if 2 is stored in spam, and prints\n",
    "Greetings! if anything else is stored in spam."
   ]
  },
  {
   "cell_type": "code",
   "execution_count": 18,
   "metadata": {},
   "outputs": [
    {
     "name": "stdout",
     "output_type": "stream",
     "text": [
      "Enter value of spam :0\n",
      "Greetings!\n"
     ]
    }
   ],
   "source": [
    "#Answer-8\n",
    "user_input=int(input(\"Enter value of spam :\"))\n",
    "if  user_input==1:\n",
    "    print('Hello')\n",
    "elif user_input == 2:\n",
    "    print('Howdy')\n",
    "else:\n",
    "    print('Greetings!')"
   ]
  },
  {
   "cell_type": "raw",
   "metadata": {},
   "source": [
    "9.If your programme is stuck in an endless loop, what keys you’ll press?\n",
    "\n",
    "Answer-9\n",
    "Press CTRL-C to stop a program stuck in an infinite loop."
   ]
  },
  {
   "cell_type": "raw",
   "metadata": {},
   "source": [
    "10. How can you tell the difference between break and continue?\n",
    "\n",
    "Answer-10\n",
    "The break statement will break the entire loop.It will come out of the loop.\n",
    "The continue statement will move the execution to the start of the loop.\n",
    "continue will give control to the loop.It will not execute the next operation and will give immediate control to the loop"
   ]
  },
  {
   "cell_type": "raw",
   "metadata": {},
   "source": [
    "11. In a for loop, what is the difference between range(10), range(0, 10), and range(0, 10, 1)?\n",
    "\n",
    "Answer-11\n",
    "They all do the same thing.\n",
    "range(10) create range of data that ranges from 0 to 10 (but not including) 10.\n",
    "range(0, 10) creates range of data that start from 0 and end at 10 excluding the upper bound i.e 10\n",
    "range(0, 10, 1) creates range of data that start with 0, end with 10 excluding 10 with the step size of 1.\n",
    "It tells the loop to increase the variable by 1 on each iteration."
   ]
  },
  {
   "cell_type": "raw",
   "metadata": {},
   "source": [
    "12. Write a short program that prints the numbers 1 to 10 using a for loop. Then write an equivalent\n",
    "program that prints the numbers 1 to 10 using a while loop."
   ]
  },
  {
   "cell_type": "code",
   "execution_count": 19,
   "metadata": {},
   "outputs": [
    {
     "name": "stdout",
     "output_type": "stream",
     "text": [
      "1\n",
      "2\n",
      "3\n",
      "4\n",
      "5\n",
      "6\n",
      "7\n",
      "8\n",
      "9\n",
      "10\n"
     ]
    }
   ],
   "source": [
    "#answer-12\n",
    "for i in range (1,11):\n",
    "    print(i)"
   ]
  },
  {
   "cell_type": "code",
   "execution_count": 20,
   "metadata": {},
   "outputs": [
    {
     "name": "stdout",
     "output_type": "stream",
     "text": [
      "1\n",
      "2\n",
      "3\n",
      "4\n",
      "5\n",
      "6\n",
      "7\n",
      "8\n",
      "9\n",
      "10\n"
     ]
    }
   ],
   "source": [
    "i=1\n",
    "while i<=10:\n",
    "    print(i)\n",
    "    i=i+1"
   ]
  },
  {
   "cell_type": "raw",
   "metadata": {},
   "source": [
    "13. If you had a function named bacon() inside a module named spam, how would you call it after\n",
    "importing spam?"
   ]
  }
 ],
 "metadata": {
  "kernelspec": {
   "display_name": "Python 3",
   "language": "python",
   "name": "python3"
  },
  "language_info": {
   "codemirror_mode": {
    "name": "ipython",
    "version": 3
   },
   "file_extension": ".py",
   "mimetype": "text/x-python",
   "name": "python",
   "nbconvert_exporter": "python",
   "pygments_lexer": "ipython3",
   "version": "3.8.5"
  }
 },
 "nbformat": 4,
 "nbformat_minor": 4
}
