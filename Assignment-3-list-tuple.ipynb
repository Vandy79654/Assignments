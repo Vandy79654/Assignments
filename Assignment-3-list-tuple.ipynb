{
 "cells": [
  {
   "cell_type": "raw",
   "metadata": {},
   "source": [
    "1. On amazon website we have the following available items -\n",
    "amazon_website = [(\"watch\", 5000), (\"phone\", 10000), (\"laptop\", 50000), (\"shirt\", 1000)]\n",
    "Take the user input N no. of times and find out the total cost to be paid?\n",
    "\n",
    "OR\n",
    "\n",
    "You can ask the user quntity or the count of item?\n",
    "\n",
    "if the item is not present in the amazon website then print that item as out of stock and do add it total\n",
    "\n",
    "HINT: while, for loop.. indexing"
   ]
  },
  {
   "cell_type": "code",
   "execution_count": 1,
   "metadata": {},
   "outputs": [
    {
     "name": "stdout",
     "output_type": "stream",
     "text": [
      "Enter the Item you want to purchase :watch\n",
      "watch is available in stock\n",
      "Add to the cart\n",
      "Price of Item : 5000\n",
      "Your Cart:[('watch', 5000)]\n",
      "Buy Now :5000\n",
      "Enter the Item you want to purchase :phone\n",
      "phone is available in stock\n",
      "Add to the cart\n",
      "Price of Item : 10000\n",
      "Your Cart:[('watch', 5000), ('phone', 10000)]\n",
      "Buy Now :15000\n",
      "Enter the Item you want to purchase :milk\n",
      "Out of stock\n",
      "Enter the Item you want to purchase :shirt\n",
      "shirt is available in stock\n",
      "Add to the cart\n",
      "Price of Item : 1000\n",
      "Your Cart:[('watch', 5000), ('phone', 10000), ('shirt', 1000)]\n",
      "Buy Now :16000\n",
      "Total amount to Pay : 16000\n"
     ]
    }
   ],
   "source": [
    "#inpput from the user\n",
    "#search item it is available or not\n",
    "#IF available in the amazon_site addto the cart\n",
    "#again search for the the product if available then again add in cart\n",
    "#Go to the Cart\n",
    "#we get shhortlisted items that we want to buy\n",
    "#Total amount to be paid\n",
    "cart=list()\n",
    "total_cost=0\n",
    "amazon_website=[(\"watch\",5000),(\"phone\",10000),(\"laptop\",50000),(\"shirt\",1000)]\n",
    " \n",
    "for i in amazon_website:\n",
    "    user_input=input(\"Enter the Item you want to purchase :\")\n",
    "    #print(f\"i= {i}\")\n",
    "    if user_input==i[0]:\n",
    "        print(f\"{i[0]} is available in stock\")\n",
    "        print(\"Add to the cart\")\n",
    "        print(f\"Price of Item : {i[1]}\")\n",
    "        cart.append(i)\n",
    "        print(f\"Your Cart:{cart}\")\n",
    "        total_cost=total_cost+i[1] \n",
    "        print(f\"Buy Now :{total_cost}\")\n",
    "        \n",
    "    else:\n",
    "        print(\"Out of stock\")\n",
    "\n",
    "print(f\"Total amount to Pay : {total_cost}\")"
   ]
  },
  {
   "cell_type": "raw",
   "metadata": {},
   "source": [
    "2. What will be the output of the following code snippet?\n",
    "arr = [1, 2, 3, 4, 5, 6]\n",
    "for i in range(1, 6):\n",
    "    arr[i - 1] = arr[i]\n",
    "for i in range(0, 6): \n",
    "    print(arr[i], end = \" \")\n"
   ]
  },
  {
   "cell_type": "code",
   "execution_count": null,
   "metadata": {},
   "outputs": [],
   "source": [
    "#Answer-2\n",
    "2,3,4,5,6,6"
   ]
  },
  {
   "cell_type": "code",
   "execution_count": null,
   "metadata": {},
   "outputs": [],
   "source": [
    "#3. Write a Python program to find the repeated items of a tuple.\n",
    "user_input=int(input(\"Enter the number: \"))\n",
    "t=(1,2,2,5,6,6,6,7,8,4,4,4,4,4,4)\n",
    "print(f\"Our Tuple :{t}\")\n",
    "count=t.count(user_input)\n",
    "print(f\"Occurence: {count}\")\n"
   ]
  },
  {
   "cell_type": "raw",
   "metadata": {},
   "source": [
    "4. Replace last value of tuples in a list with 500. Try using list comprehension\n",
    "Example -:\n",
    "\n",
    "Input -:\n",
    "\n",
    "[(10, 20, 40), (40, 50, 60), (70, 80, 90)]\n",
    "\n",
    "Output -:\n",
    "[(10, 20, 500), (40, 50, 500), (70, 80, 500)]\n"
   ]
  },
  {
   "cell_type": "raw",
   "metadata": {},
   "source": [
    "#Answer 4 :\n",
    "l = [(10, 20, 40), (40, 50, 60), (70, 80, 90)]\n",
    "\n",
    "We can replace values in a list,however we cannot replace values in a tuple, as tuples are immutable considering data integrity.\n",
    "\n",
    "    \n"
   ]
  },
  {
   "cell_type": "code",
   "execution_count": 4,
   "metadata": {},
   "outputs": [
    {
     "name": "stdout",
     "output_type": "stream",
     "text": [
      "[(10, 20, 500), (40, 50, 500), (70, 80, 500)]\n"
     ]
    }
   ],
   "source": [
    "l = [(10, 20, 40), (40, 50, 60), (70, 80, 90)]\n",
    "print([t[:-1] + (500,) for t in l])"
   ]
  },
  {
   "cell_type": "code",
   "execution_count": null,
   "metadata": {},
   "outputs": [],
   "source": []
  }
 ],
 "metadata": {
  "kernelspec": {
   "display_name": "Python 3",
   "language": "python",
   "name": "python3"
  },
  "language_info": {
   "codemirror_mode": {
    "name": "ipython",
    "version": 3
   },
   "file_extension": ".py",
   "mimetype": "text/x-python",
   "name": "python",
   "nbconvert_exporter": "python",
   "pygments_lexer": "ipython3",
   "version": "3.8.5"
  }
 },
 "nbformat": 4,
 "nbformat_minor": 4
}
